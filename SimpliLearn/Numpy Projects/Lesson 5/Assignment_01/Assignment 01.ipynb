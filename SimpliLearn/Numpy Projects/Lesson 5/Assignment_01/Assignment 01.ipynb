{
 "cells": [
  {
   "cell_type": "markdown",
   "metadata": {},
   "source": [
    "<img src=\"http://cfs22.simplicdn.net/ice9/new_logo.svgz \"/>\n",
    "\n",
    "# Assignment 01: Evaluate the GDP Dataset\n",
    "\n",
    "*The comments/sections provided are your cues to perform the assignment. You don't need to limit yourself to the number of rows/cells provided. You can add additional rows in each section to add more lines of code.*\n",
    "\n",
    "*If at any point in time you need help on solving this assignment, view our demo video to understand the different steps of the code.*\n",
    "\n",
    "**Happy coding!**\n",
    "\n",
    "* * *"
   ]
  },
  {
   "cell_type": "markdown",
   "metadata": {},
   "source": [
    "#### 1: View and add the dataset"
   ]
  },
  {
   "cell_type": "code",
   "execution_count": 1,
   "metadata": {
    "collapsed": true
   },
   "outputs": [],
   "source": [
    "#Import required library\n",
    "import numpy as np"
   ]
  },
  {
   "cell_type": "code",
   "execution_count": 2,
   "metadata": {
    "collapsed": true
   },
   "outputs": [],
   "source": [
    "#Manually add the dataset\n",
    "countries = np.array(['Algeria','Angola','Argentina','Australia','Austria','Bahamas','Bangladesh','Belarus','Belgium','Bhutan','Brazil','Bulgaria','Cambodia','Cameroon','Chile','China','Colombia','Cyprus','Denmark','El Salvador','Estonia','Ethiopia','Fiji','Finland','France','Georgia','Ghana','Grenada','Guinea','Haiti','Honduras','Hungary','India','Indonesia','Ireland','Italy','Japan','Kenya', 'South Korea','Liberia','Malaysia','Mexico', 'Morocco','Nepal','New Zealand','Norway','Pakistan', 'Peru','Qatar','Russia','Singapore','South Africa','Spain','Sweden','Switzerland','Thailand', 'United Arab Emirates','United Kingdom','United States','Uruguay','Venezuela','Vietnam','Zimbabwe'])\n",
    "\n",
    "gdp = np.array([2255.225482,629.9553062,11601.63022,25306.82494,27266.40335,19466.99052,588.3691778,2890.345675,24733.62696,1445.760002,4803.398244,2618.876037,590.4521124,665.7982328,7122.938458,2639.54156,3362.4656,15378.16704,30860.12808,2579.115607,6525.541272,229.6769525,2242.689259,27570.4852,23016.84778,1334.646773,402.6953275,6047.200797,394.1156638,385.5793827,1414.072488,5745.981529,837.7464011,1206.991065,27715.52837,18937.24998,39578.07441,478.2194906,16684.21278,279.2204061,5345.213415,6288.25324,1908.304416,274.8728621,14646.42094,40034.85063,672.1547506,3359.517402,36152.66676,3054.727742,33529.83052,3825.093781,15428.32098,33630.24604,39170.41371,2699.123242,21058.43643,28272.40661,37691.02733,9581.05659,5671.912202,757.4009286,347.7456605])"
   ]
  },
  {
   "cell_type": "markdown",
   "metadata": {
    "collapsed": true
   },
   "source": [
    "#### 2: Find and print the name of the country with the highest GDP"
   ]
  },
  {
   "cell_type": "code",
   "execution_count": 3,
   "metadata": {
    "collapsed": false
   },
   "outputs": [],
   "source": [
    "#Use the argmax() method to find the highest GDP\n",
    "maxGDP = gdp.argmax()"
   ]
  },
  {
   "cell_type": "code",
   "execution_count": 6,
   "metadata": {
    "collapsed": true
   },
   "outputs": [
    {
     "output_type": "execute_result",
     "data": {
      "text/plain": "&#39;Norway&#39;"
     },
     "metadata": {},
     "execution_count": 6
    }
   ],
   "source": [
    "#Print the name of the country\n",
    "countryMaxGDP = countries[maxGDP]\n",
    "countryMaxGDP"
   ]
  },
  {
   "cell_type": "markdown",
   "metadata": {
    "collapsed": false
   },
   "source": [
    "#### 3: Find and print the name of the country with the lowest GDP"
   ]
  },
  {
   "cell_type": "code",
   "execution_count": 7,
   "metadata": {
    "collapsed": true
   },
   "outputs": [],
   "source": [
    "#Use the argmin() method to find the lowest GDP\n",
    "minGDP = gdp.argmin()"
   ]
  },
  {
   "cell_type": "code",
   "execution_count": 8,
   "metadata": {
    "collapsed": true
   },
   "outputs": [
    {
     "output_type": "execute_result",
     "data": {
      "text/plain": "&#39;Ethiopia&#39;"
     },
     "metadata": {},
     "execution_count": 8
    }
   ],
   "source": [
    "#Print the name of the country\n",
    "countryMinGDP = countries[minGDP]\n",
    "countryMinGDP"
   ]
  },
  {
   "cell_type": "markdown",
   "metadata": {
    "collapsed": false
   },
   "source": [
    "#### 4: Print out text ('evaluating country') and input value ('country name') iteratively"
   ]
  },
  {
   "cell_type": "code",
   "execution_count": 10,
   "metadata": {
    "collapsed": false,
    "tags": []
   },
   "outputs": [
    {
     "output_type": "stream",
     "name": "stdout",
     "text": "evaluating country Algeria\nevaluating country Angola\nevaluating country Argentina\nevaluating country Australia\nevaluating country Austria\nevaluating country Bahamas\nevaluating country Bangladesh\nevaluating country Belarus\nevaluating country Belgium\nevaluating country Bhutan\nevaluating country Brazil\nevaluating country Bulgaria\nevaluating country Cambodia\nevaluating country Cameroon\nevaluating country Chile\nevaluating country China\nevaluating country Colombia\nevaluating country Cyprus\nevaluating country Denmark\nevaluating country El Salvador\nevaluating country Estonia\nevaluating country Ethiopia\nevaluating country Fiji\nevaluating country Finland\nevaluating country France\nevaluating country Georgia\nevaluating country Ghana\nevaluating country Grenada\nevaluating country Guinea\nevaluating country Haiti\nevaluating country Honduras\nevaluating country Hungary\nevaluating country India\nevaluating country Indonesia\nevaluating country Ireland\nevaluating country Italy\nevaluating country Japan\nevaluating country Kenya\nevaluating country South Korea\nevaluating country Liberia\nevaluating country Malaysia\nevaluating country Mexico\nevaluating country Morocco\nevaluating country Nepal\nevaluating country New Zealand\nevaluating country Norway\nevaluating country Pakistan\nevaluating country Peru\nevaluating country Qatar\nevaluating country Russia\nevaluating country Singapore\nevaluating country South Africa\nevaluating country Spain\nevaluating country Sweden\nevaluating country Switzerland\nevaluating country Thailand\nevaluating country United Arab Emirates\nevaluating country United Kingdom\nevaluating country United States\nevaluating country Uruguay\nevaluating country Venezuela\nevaluating country Vietnam\nevaluating country Zimbabwe\n"
    }
   ],
   "source": [
    "#Use a for loop to print the required output\n",
    "for country in countries:\n",
    "    print('evaluating country {}'.format(country))"
   ]
  },
  {
   "cell_type": "markdown",
   "metadata": {},
   "source": [
    "#### 5: Print out the entire list of the countries with their GDPs"
   ]
  },
  {
   "cell_type": "code",
   "execution_count": 15,
   "metadata": {
    "collapsed": false,
    "tags": []
   },
   "outputs": [
    {
     "output_type": "stream",
     "name": "stdout",
     "text": "The country of Algeria and their GDP of 2255.225482\nThe country of Angola and their GDP of 629.9553062\nThe country of Argentina and their GDP of 11601.63022\nThe country of Australia and their GDP of 25306.82494\nThe country of Austria and their GDP of 27266.40335\nThe country of Bahamas and their GDP of 19466.99052\nThe country of Bangladesh and their GDP of 588.3691778\nThe country of Belarus and their GDP of 2890.345675\nThe country of Belgium and their GDP of 24733.62696\nThe country of Bhutan and their GDP of 1445.760002\nThe country of Brazil and their GDP of 4803.398244\nThe country of Bulgaria and their GDP of 2618.876037\nThe country of Cambodia and their GDP of 590.4521124\nThe country of Cameroon and their GDP of 665.7982328\nThe country of Chile and their GDP of 7122.938458\nThe country of China and their GDP of 2639.54156\nThe country of Colombia and their GDP of 3362.4656\nThe country of Cyprus and their GDP of 15378.16704\nThe country of Denmark and their GDP of 30860.12808\nThe country of El Salvador and their GDP of 2579.115607\nThe country of Estonia and their GDP of 6525.541272\nThe country of Ethiopia and their GDP of 229.6769525\nThe country of Fiji and their GDP of 2242.689259\nThe country of Finland and their GDP of 27570.4852\nThe country of France and their GDP of 23016.84778\nThe country of Georgia and their GDP of 1334.646773\nThe country of Ghana and their GDP of 402.6953275\nThe country of Grenada and their GDP of 6047.200797\nThe country of Guinea and their GDP of 394.1156638\nThe country of Haiti and their GDP of 385.5793827\nThe country of Honduras and their GDP of 1414.072488\nThe country of Hungary and their GDP of 5745.981529\nThe country of India and their GDP of 837.7464011\nThe country of Indonesia and their GDP of 1206.991065\nThe country of Ireland and their GDP of 27715.52837\nThe country of Italy and their GDP of 18937.24998\nThe country of Japan and their GDP of 39578.07441\nThe country of Kenya and their GDP of 478.2194906\nThe country of South Korea and their GDP of 16684.21278\nThe country of Liberia and their GDP of 279.2204061\nThe country of Malaysia and their GDP of 5345.213415\nThe country of Mexico and their GDP of 6288.25324\nThe country of Morocco and their GDP of 1908.304416\nThe country of Nepal and their GDP of 274.8728621\nThe country of New Zealand and their GDP of 14646.42094\nThe country of Norway and their GDP of 40034.85063\nThe country of Pakistan and their GDP of 672.1547506\nThe country of Peru and their GDP of 3359.517402\nThe country of Qatar and their GDP of 36152.66676\nThe country of Russia and their GDP of 3054.727742\nThe country of Singapore and their GDP of 33529.83052\nThe country of South Africa and their GDP of 3825.093781\nThe country of Spain and their GDP of 15428.32098\nThe country of Sweden and their GDP of 33630.24604\nThe country of Switzerland and their GDP of 39170.41371\nThe country of Thailand and their GDP of 2699.123242\nThe country of United Arab Emirates and their GDP of 21058.43643\nThe country of United Kingdom and their GDP of 28272.40661\nThe country of United States and their GDP of 37691.02733\nThe country of Uruguay and their GDP of 9581.05659\nThe country of Venezuela and their GDP of 5671.912202\nThe country of Vietnam and their GDP of 757.4009286\nThe country of Zimbabwe and their GDP of 347.7456605\n"
    }
   ],
   "source": [
    "#Use a for loop to print the required list\n",
    "for i in range(len(countries)):\n",
    "    country = countries[i]\n",
    "    countryGDP = gdp[i]\n",
    "    print('The country of {} and their GDP of {}'.format(country,countryGDP))"
   ]
  },
  {
   "cell_type": "markdown",
   "metadata": {
    "collapsed": false
   },
   "source": [
    "#### 6: Print the following:\n",
    "1. Highest GPD value\n",
    "2. Lowest GDP value\n",
    "3. Mean GDP value\n",
    "4. Standardized GDP value\n",
    "5. Sum of all the GDPs"
   ]
  },
  {
   "cell_type": "code",
   "execution_count": 19,
   "metadata": {
    "collapsed": true,
    "tags": []
   },
   "outputs": [
    {
     "output_type": "stream",
     "name": "stdout",
     "text": "40034.85063\n229.6769525\n11289.409271639683\n12743.828910617945\n711232.7841133\n"
    }
   ],
   "source": [
    "# Highest GDP Value\n",
    "print(gdp.max())\n",
    "# Lowest GDP Value\n",
    "print(gdp.min())\n",
    "# Mean GDP Value\n",
    "print(gdp.mean())\n",
    "# Standarized GDP Value\n",
    "print(gdp.std())\n",
    "# Sum of All the GDPs\n",
    "print(gdp.sum())"
   ]
  },
  {
   "cell_type": "code",
   "execution_count": null,
   "metadata": {},
   "outputs": [],
   "source": []
  }
 ],
 "metadata": {
  "kernelspec": {
   "display_name": "Python 3",
   "language": "python",
   "name": "python3"
  },
  "language_info": {
   "codemirror_mode": {
    "name": "ipython",
    "version": 3
   },
   "file_extension": ".py",
   "mimetype": "text/x-python",
   "name": "python",
   "nbconvert_exporter": "python",
   "pygments_lexer": "ipython3",
   "version": "3.7.3-final"
  }
 },
 "nbformat": 4,
 "nbformat_minor": 0
}