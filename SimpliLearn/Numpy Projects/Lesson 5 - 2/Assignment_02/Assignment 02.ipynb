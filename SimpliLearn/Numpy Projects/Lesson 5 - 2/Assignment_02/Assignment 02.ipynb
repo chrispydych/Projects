{
 "cells": [
  {
   "cell_type": "markdown",
   "metadata": {},
   "source": [
    "<img src=\"http://cfs22.simplicdn.net/ice9/new_logo.svgz \"/>\n",
    "\n",
    "# Assignment 02: Evaluate the Summer Olympics, London 2012 dataset\n",
    "\n",
    "*The comments/sections provided are your cues to perform the assignment. You don't need to limit yourself to the number of rows/cells provided. You can add additional rows in each section to add more lines of code.*\n",
    "\n",
    "*If at any point in time you need help on solving this assignment, view our demo video to understand the different steps of the code.*\n",
    "\n",
    "**Happy coding!**\n",
    "\n",
    "* * *"
   ]
  },
  {
   "cell_type": "markdown",
   "metadata": {},
   "source": [
    "#### 1: View and add the dataset"
   ]
  },
  {
   "cell_type": "code",
   "execution_count": 1,
   "metadata": {
    "collapsed": true
   },
   "outputs": [],
   "source": [
    "#Import the necessary library\n",
    "import numpy as np"
   ]
  },
  {
   "cell_type": "code",
   "execution_count": 3,
   "metadata": {
    "collapsed": true
   },
   "outputs": [],
   "source": [
    "#Manually add the Summer Olympics, London 2012 dataset as arrays\n",
    "countryCode = np.array(['GBR','CHN','RUS','US','KOR','JPN','GER'])\n",
    "goldMedals = np.array([29,38,24,46,13,7,11])\n",
    "silverMedals = np.array([17,28,25,28,8,14,11])\n",
    "bronzeMedals = np.array([19,22,32,29,7,17,14])"
   ]
  },
  {
   "cell_type": "markdown",
   "metadata": {},
   "source": [
    "#### Find the country with maximum gold medals"
   ]
  },
  {
   "cell_type": "code",
   "execution_count": 4,
   "metadata": {
    "collapsed": true
   },
   "outputs": [],
   "source": [
    "#Use the argmax() method to find the highest number of gold medals\n",
    "maxGold = goldMedals.argmax()"
   ]
  },
  {
   "cell_type": "code",
   "execution_count": 5,
   "metadata": {
    "collapsed": false
   },
   "outputs": [
    {
     "output_type": "execute_result",
     "data": {
      "text/plain": "&#39;US&#39;"
     },
     "metadata": {},
     "execution_count": 5
    }
   ],
   "source": [
    "#Print the name of the country\n",
    "countryMaxGold = countryCode[maxGold]\n",
    "countryMaxGold"
   ]
  },
  {
   "cell_type": "markdown",
   "metadata": {},
   "source": [
    "#### Find the countries with more than 20 gold medals"
   ]
  },
  {
   "cell_type": "code",
   "execution_count": 7,
   "metadata": {
    "collapsed": false,
    "tags": []
   },
   "outputs": [
    {
     "output_type": "stream",
     "name": "stdout",
     "text": "[&#39;GBR&#39; &#39;CHN&#39; &#39;RUS&#39; &#39;US&#39;]\n"
    }
   ],
   "source": [
    "#Use Boolean indexing technique to find the required output\n",
    "print(countryCode[goldMedals > 20])"
   ]
  },
  {
   "cell_type": "markdown",
   "metadata": {},
   "source": [
    "#### Evaluate the dataset and print the name of each country with its gold medals and total number of medals"
   ]
  },
  {
   "cell_type": "code",
   "execution_count": 14,
   "metadata": {
    "collapsed": false,
    "tags": []
   },
   "outputs": [
    {
     "output_type": "stream",
     "name": "stdout",
     "text": "country GBR has medals 65 and gold medals 29\ncountry CHN has medals 88 and gold medals 38\ncountry RUS has medals 81 and gold medals 24\ncountry US has medals 103 and gold medals 46\ncountry KOR has medals 28 and gold medals 13\ncountry JPN has medals 38 and gold medals 7\ncountry GER has medals 36 and gold medals 11\n"
    }
   ],
   "source": [
    "#Use a for loop to create the required output\n",
    "for i in range(len(countryCode)):\n",
    "    countryGoldCount = goldMedals[i]\n",
    "    country = countryCode[i]\n",
    "    totalMedals = goldMedals[i] + silverMedals[i] + bronzeMedals[i]\n",
    "    print('country {} has medals {} and gold medals {}'.format(country,totalMedals,countryGoldCount))"
   ]
  },
  {
   "cell_type": "code",
   "execution_count": null,
   "metadata": {},
   "outputs": [],
   "source": []
  }
 ],
 "metadata": {
  "kernelspec": {
   "display_name": "Python 3",
   "language": "python",
   "name": "python3"
  },
  "language_info": {
   "codemirror_mode": {
    "name": "ipython",
    "version": 3
   },
   "file_extension": ".py",
   "mimetype": "text/x-python",
   "name": "python",
   "nbconvert_exporter": "python",
   "pygments_lexer": "ipython3",
   "version": "3.7.3-final"
  }
 },
 "nbformat": 4,
 "nbformat_minor": 0
}